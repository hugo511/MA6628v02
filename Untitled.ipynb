{
 "cells": [
  {
   "cell_type": "markdown",
   "metadata": {},
   "source": [
    "Finding implied volatility with the following parameters on SPY:\n",
    "\n",
    "- Today: Sep 27, 2018\n",
    "\n",
    "- Spot price: 290.68\n",
    "\n",
    "- Maturity: Dec 31, 2018\n",
    "\n",
    "- Strike: 288\n",
    "\n",
    "- rate: 0.02 (from https://www.treasury.gov/resource-center/data-chart-center/interest-rates/Pages/TextView.aspx?data=yield)\n",
    "\n",
    "- Call price = 9.23"
   ]
  },
  {
   "cell_type": "code",
   "execution_count": 24,
   "metadata": {},
   "outputs": [],
   "source": [
    "%reset -f"
   ]
  },
  {
   "cell_type": "code",
   "execution_count": 30,
   "metadata": {},
   "outputs": [],
   "source": [
    "import numpy as np\n",
    "from ImpliedVolatility import IVolBsm"
   ]
  },
  {
   "cell_type": "code",
   "execution_count": 31,
   "metadata": {},
   "outputs": [],
   "source": [
    "Today = np.datetime64('2018-09-27')\n",
    "Maturity = np.datetime64('2018-12-31')\n",
    "T = (Maturity - Today)/np.timedelta64(1,'D')/365 #time to maturity in year\n",
    "S0 = 290.68\n",
    "K = 288.\n",
    "r = .02\n",
    "Call = 9.23"
   ]
  },
  {
   "cell_type": "code",
   "execution_count": 35,
   "metadata": {},
   "outputs": [
    {
     "name": "stdout",
     "output_type": "stream",
     "text": [
      "Optimization terminated successfully.\n",
      "         Current function value: 0.000000\n",
      "         Iterations: 15\n",
      "         Function evaluations: 30\n",
      "Implied volatility is 0.118242\n"
     ]
    }
   ],
   "source": [
    "print('Implied volatility is %f' %IVolBsm(S0, K, T, r, Call))"
   ]
  },
  {
   "cell_type": "code",
   "execution_count": 36,
   "metadata": {},
   "outputs": [
    {
     "name": "stdout",
     "output_type": "stream",
     "text": [
      "#!/usr/bin/env python3\r\n",
      "# -*- coding: utf-8 -*-\r\n",
      "\"\"\"\r\n",
      "Created on Fri Sep 28 20:09:37 2018\r\n",
      "\r\n",
      "@author: songqsh\r\n",
      "\"\"\"\r\n",
      "\r\n",
      "from scipy import optimize\r\n",
      "from BSM_option_valuation import *\r\n",
      "\r\n",
      "def IVolBsm(S0, K, T, r, P0):\r\n",
      "    InitVol = .3\r\n",
      "    error = lambda sigma: (BSM_call_value(S0, K, 0, T, r, sigma) - P0)**2\r\n",
      "    opt = optimize.fmin(error, InitVol);\r\n",
      "    return opt[0]\r\n",
      "\r\n",
      "if __name__ == \"__main__\":\r\n",
      "    print('Implied volatility is', IVolBsm(100, 100, 1, .02, 9))\r\n",
      "\r\n",
      "\r\n",
      "\r\n",
      "\r\n",
      "\r\n"
     ]
    }
   ],
   "source": [
    "#Script is shown below\n",
    "%cat ImpliedVolatility.py"
   ]
  },
  {
   "cell_type": "code",
   "execution_count": null,
   "metadata": {},
   "outputs": [],
   "source": []
  }
 ],
 "metadata": {
  "kernelspec": {
   "display_name": "Python 3",
   "language": "python",
   "name": "python3"
  },
  "language_info": {
   "codemirror_mode": {
    "name": "ipython",
    "version": 3
   },
   "file_extension": ".py",
   "mimetype": "text/x-python",
   "name": "python",
   "nbconvert_exporter": "python",
   "pygments_lexer": "ipython3",
   "version": "3.6.5"
  }
 },
 "nbformat": 4,
 "nbformat_minor": 2
}
