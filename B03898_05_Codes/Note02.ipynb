{
 "cells": [
  {
   "cell_type": "markdown",
   "metadata": {},
   "source": [
    "# ForwardRates"
   ]
  },
  {
   "cell_type": "code",
   "execution_count": 1,
   "metadata": {},
   "outputs": [],
   "source": [
    "from forward_rates import *"
   ]
  },
  {
   "cell_type": "code",
   "execution_count": 2,
   "metadata": {},
   "outputs": [
    {
     "name": "stdout",
     "output_type": "stream",
     "text": [
      "[10.810999999999998, 10.603, 10.971, 11.189]\n"
     ]
    }
   ],
   "source": [
    "fr = ForwardRates()\n",
    "fr.add_spot_rate(0.25, 10.127)\n",
    "fr.add_spot_rate(0.50, 10.469)\n",
    "fr.add_spot_rate(1.00, 10.536)\n",
    "fr.add_spot_rate(1.50, 10.681)\n",
    "fr.add_spot_rate(2.00, 10.808)\n",
    "print(fr.get_forward_rates())"
   ]
  },
  {
   "cell_type": "markdown",
   "metadata": {},
   "source": [
    "# Bond YTM"
   ]
  },
  {
   "cell_type": "code",
   "execution_count": 3,
   "metadata": {},
   "outputs": [],
   "source": [
    "from bond_ytm import bond_ytm"
   ]
  },
  {
   "cell_type": "code",
   "execution_count": 6,
   "metadata": {},
   "outputs": [
    {
     "name": "stdout",
     "output_type": "stream",
     "text": [
      "0.09369155345239522\n"
     ]
    }
   ],
   "source": [
    "#Given a bond price, find YTM\n",
    "ytm = bond_ytm(95.0428, 100, 1.5, 5.75, 2)\n",
    "print(ytm)"
   ]
  },
  {
   "cell_type": "code",
   "execution_count": 7,
   "metadata": {},
   "outputs": [
    {
     "name": "stdout",
     "output_type": "stream",
     "text": [
      "95.04279999999997\n"
     ]
    }
   ],
   "source": [
    "#Given a YTM, find bond price\n",
    "from bond_ytm import bond_ytm\n",
    "from bond_price import *\n",
    "ytm = bond_ytm(95.0428, 100, 1.5, 5.75, 2)\n",
    "print(bond_price(100, 1.5, ytm, 5.75, 2))"
   ]
  },
  {
   "cell_type": "markdown",
   "metadata": {},
   "source": [
    "# Bond Mod Duration"
   ]
  },
  {
   "cell_type": "code",
   "execution_count": 9,
   "metadata": {},
   "outputs": [
    {
     "name": "stdout",
     "output_type": "stream",
     "text": [
      "1.3921788121707042\n"
     ]
    }
   ],
   "source": [
    "from bond_mod_duration import bond_mod_duration\n",
    "print(bond_mod_duration(95.04, 100, 1.5, 5.75, 2, 0.01))\n",
    "    "
   ]
  },
  {
   "cell_type": "code",
   "execution_count": 10,
   "metadata": {},
   "outputs": [
    {
     "name": "stdout",
     "output_type": "stream",
     "text": [
      "2.633959390331875\n"
     ]
    }
   ],
   "source": [
    "from bond_convexity import *\n",
    "print(bond_convexity(95.0428, 100, 1.5, 5.75, 2))"
   ]
  },
  {
   "cell_type": "code",
   "execution_count": null,
   "metadata": {},
   "outputs": [],
   "source": []
  }
 ],
 "metadata": {
  "kernelspec": {
   "display_name": "Python 3",
   "language": "python",
   "name": "python3"
  },
  "language_info": {
   "codemirror_mode": {
    "name": "ipython",
    "version": 3
   },
   "file_extension": ".py",
   "mimetype": "text/x-python",
   "name": "python",
   "nbconvert_exporter": "python",
   "pygments_lexer": "ipython3",
   "version": "3.6.4"
  }
 },
 "nbformat": 4,
 "nbformat_minor": 2
}
