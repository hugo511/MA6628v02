{
 "cells": [
  {
   "cell_type": "markdown",
   "metadata": {},
   "source": [
    "# Assignments"
   ]
  },
  {
   "cell_type": "markdown",
   "metadata": {},
   "source": [
    "**Prj01** (L01)\n",
    "\n",
    "A twin prime is a prime number that is either 2 less or 2 more than another prime number, see for details here: https://en.wikipedia.org/wiki/Twin_prime\n",
    "\n",
    "- How many twin primes are bigger than one thousand but smaller than one million?\n",
    "- What is the biggest twin prime you could find?"
   ]
  },
  {
   "cell_type": "markdown",
   "metadata": {},
   "source": [
    "**Prj02.** (L04) This is an application of BSM evaluation to Geometric asian option price\n",
    "\n",
    "Geometric asian call option with maturity $T$ and strike $K$ has its pay off as\n",
    "$$C(T) = (A(T) - K)^+,$$\n",
    "where $A(T)$ is geometric average of the stock price at times\n",
    "$0 \\le t_1 < t_2, \\ldots, < t_n = T$, i.e.\n",
    "$$A(T) = (S(t_1)S(t_2) \\ldots S(t_n))^{1/n}.$$\n",
    "\n",
    "The call price can be thus written by\n",
    "$$C_0 = \\mathbb E [e^{-rT} (A(T) - K)^+].$$\n",
    "\n",
    "**To do**\n",
    "Use \"BSM_option_valuation\" module to find the BSM asian option value with the following parameters\n",
    "\n",
    "\n",
    "\n"
   ]
  },
  {
   "cell_type": "code",
   "execution_count": 2,
   "metadata": {},
   "outputs": [],
   "source": [
    "%reset -f\n",
    "import numpy as np\n",
    "#An example is given here\n",
    "S0 = 100.0 #initial stock price\n",
    "K = 110.0 #strike\n",
    "r=0.0475 #interest rate\n",
    "sigma = 0.20 #vol\n",
    "T = 1. #maturity\n",
    "Otype='C' #Call type\n",
    "n = 4 #number of periods\n",
    "t = np.linspace(0., T, n+1)[1:] #times to be used for geometric averaging stock price"
   ]
  },
  {
   "cell_type": "markdown",
   "metadata": {},
   "source": [
    "**Hint** \n",
    "We set $t_0 = 0$.\n",
    "Under the above BS model, one can show that the distribution of $A(T)$ is again a lognormal in the form of\n",
    "$$\\ln \\frac{A(T)}{A(0)} \\sim \\mathcal N(\\frac \\mu n \\sum_{i=1}^n t_i, \\  \\frac{\\sigma^2}{n^2} \\sum_{j=0}^{n-1} (n-j)^2 (t_{j+1} - t_j)),$$\n",
    "where $A(0) = S(0)$, $\\mu = r  - \\frac 1 2 \\sigma^2$. Therefore, we can rewrite the price formula as, with $Z\\sim \\mathcal N(0,1)$\n",
    "$$C_0 = \\mathbb E[ e^{-rT} (S(0) e^{ (\\hat r - \\frac 1 2 \\hat \\sigma^2) T + \\hat \\sigma \\sqrt{T} Z} - K)^+] \n",
    "$$\n",
    "or equivalently\n",
    "$$\n",
    "C_0 = e^{-(r-\\hat r)T} \\mathbb E[ e^{- \\hat r T} \n",
    "(S(0) e^{ (\\hat r - \\frac 1 2 \\hat \\sigma^2) T + \\hat \\sigma \\sqrt{T} Z} - K)^+] \n",
    "$$\n",
    "with $\\hat \\sigma$ and $\\hat r$ is determined from\n",
    "$$\\hat \\sigma^2 T = \\frac{\\sigma^2}{n^2} \\sum_{j=0}^{n-1} (n-j)^2 (t_{j+1} - t_j))$$\n",
    "and\n",
    "$$(\\hat r - \\frac 1 2 \\hat \\sigma^2) T = \\frac{\\mu}{n} \\sum_{i=1}^n t_i.$$"
   ]
  },
  {
   "cell_type": "markdown",
   "metadata": {},
   "source": [
    "**Prj03**\n",
    "\n",
    "- From Yahoo Finance, download option chain for SPY of the date for the maturity of 1 month, 3 month, 12 month. \n",
    "- Sort the data for the strikes within $2\\%$ of difference from the spot price.\n",
    "- Calibrate BSM vol for three sets of data independently for each maturity.\n",
    "- Merge three sets of data into one, and calibrate BSM vol for entire data sets.\n",
    "- Comment on what you oberved."
   ]
  },
  {
   "cell_type": "code",
   "execution_count": null,
   "metadata": {},
   "outputs": [],
   "source": []
  }
 ],
 "metadata": {
  "kernelspec": {
   "display_name": "Python 3",
   "language": "python",
   "name": "python3"
  },
  "language_info": {
   "codemirror_mode": {
    "name": "ipython",
    "version": 3
   },
   "file_extension": ".py",
   "mimetype": "text/x-python",
   "name": "python",
   "nbconvert_exporter": "python",
   "pygments_lexer": "ipython3",
   "version": "3.6.4"
  }
 },
 "nbformat": 4,
 "nbformat_minor": 2
}
