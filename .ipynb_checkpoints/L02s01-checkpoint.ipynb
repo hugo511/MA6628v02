{
 "cells": [
  {
   "cell_type": "markdown",
   "metadata": {},
   "source": [
    "Basic Probability Review\n",
    "=====\n",
    "\n",
    "__Ref__\n",
    "\n",
    "[1] https://github.com/AM207/2016\n",
    "\n",
    "-----------------------------------------------------\n"
   ]
  },
  {
   "cell_type": "code",
   "execution_count": 1,
   "metadata": {},
   "outputs": [],
   "source": [
    "## do all neccessary imports\n",
    "import numpy as np\n",
    "import matplotlib\n",
    "%matplotlib inline\n",
    "import matplotlib.pyplot as plt\n",
    "import seaborn as sns\n",
    "sns.set_style(\"white\")\n",
    "sns.set_context(\"notebook\")\n",
    "import pandas as pd\n",
    "from  scipy import stats \n",
    "\n",
    "import math\n"
   ]
  },
  {
   "cell_type": "markdown",
   "metadata": {},
   "source": [
    "# Short review of probability theory, distributions etc\n",
    "\n",
    "Probabilities are numbers that tell us how often things happen (frequentist) or our believe in a different outcome or notion (Bayesian).  These two views of probabilities (and which one is preferable) are a very disputed topic. In this course we take a very simple approach and we use whatever is convenient at the time, or whatever is better to demonstrate the methodologies we are learning. \n",
    "\n",
    "There are a few basic rules that form the basis for all probabilistic methodology. In this lecture, we just briefly review these rules. For an in depth introduction into probability theory, you can for example access the [stat110 material online](http://projects.iq.harvard.edu/stat110/youtube), read Joe Blitzstein's [Introduction to Probability](http://www.amazon.com/gp/product/1466575573/ref=as_li_tl?ie=UTF8&camp=1789&creative=390957&creativeASIN=1466575573&linkCode=as2), or also Larrry Wasserman's [All of Statistics](http://www.amazon.com/All-Statistics-Statistical-Inference-Springer/dp/0387402721). \n",
    "\n",
    "Let us define some terminology: $X$ and $Y$ are two events and $p(X)$ is the probability of the event $X$ to happen. $X^c $ is the complement of $X$, the event which is all the occurrences which are not in $X$. $X \\cup Y$ is the union of $X$ and $Y$; $X \\cap Y$ is the intersection of $X$ and $Y$. (Both $X \\cup Y$ and $X\\cap Y$ are also events.)\n",
    "\n",
    "**ex**\n",
    "$$X = \\{ \\hbox{ students who has his/her cell phone} \\}$$\n",
    "\n",
    "### The very fundamental rules of probability:\n",
    "\n",
    "1. $p(X) = 1 \\;$ $X$ has to happen almost surely\n",
    "\n",
    "2. $p(X) = 0 \\;$ $X$ will certainly not happen almost surely\n",
    "\n",
    "3. $0 ≤ p(X) ≤ 1 \\;$ $X$ has probability range from low to high\n",
    "\n",
    "4. $p(X)+p(X^c)=1 \\;$ $X$ must either happen or not happen\n",
    "\n",
    "5. $p(X \\cup Y)=p(X)+p(Y)−p(X \\cap Y) \\;$ $X$ can happen and $Y$ can happen but we must subtract the cases that are happening together so we do not over-count.\n"
   ]
  },
  {
   "cell_type": "markdown",
   "metadata": {},
   "source": [
    "For two random variables $x,y$ the $p(x,y)$ is called the joint distribution, and $p(x|y)$ the conditional distribution. \n",
    "\n",
    "### Sum rule (marginal distribution)\n",
    "We can write the marginal probability of $x$ as a sum over the joint distribution of $x$ and $y$ where we sum over all possibilities of $y$,\n",
    "\n",
    "$$p(x) = \\sum_y p(x,y) $$\n",
    "\n",
    "for continuous random variables this becomes:\n",
    "\n",
    "$$ p(x) = \\int_y p(x,y) \\, dy $$"
   ]
  },
  {
   "cell_type": "markdown",
   "metadata": {},
   "source": [
    "### Product rule ## \n",
    "We can rewrite a joint distribution as a product of a conditional and marginal probability,\n",
    "\n",
    "$$ p(x,y) = p(x|y) p(y) $$"
   ]
  },
  {
   "cell_type": "markdown",
   "metadata": {},
   "source": [
    "### Chain rule ##\n",
    "The product rule is applied repeatedly to give expressions for the joint\n",
    "probability involving more than two variables. For example, the joint distribution over three\n",
    "variables can be factorized into a product of conditional probabilities:\n",
    "\n",
    "$$ p(x,y,z) = p(x|y,z) \\, p(y,z) = p(x |y,z) \\, p(y|z) p(z) $$\n"
   ]
  },
  {
   "cell_type": "markdown",
   "metadata": {},
   "source": [
    "### Bayes rule\n",
    "Given the product rule one can derive the Bayes rule, which plays a central role in a lot of the things we will be talking about:\n",
    "\n",
    "$$ p(y|x) = \\frac{p(x|y) \\, p(y) }{p(x)} = \\frac{p(x|y) \\, p(y) }{\\sum_{y'} p(x,y')} = \\frac{p(x|y) \\, p(y) }{\\sum_{y'} p(x|y')p(y')}$$\n",
    "\n"
   ]
  },
  {
   "cell_type": "markdown",
   "metadata": {},
   "source": [
    "### Independence\n",
    "Two variables are said to be independent if their joint distribution factorizes into a product of two marginal probabilities:\n",
    "\n",
    "$$ p(x,y) = p(x) \\, p(y) $$ \n",
    "\n",
    "Note that if two variables are uncorrelated, that does not mean they are statistically independent. There are many ways to measure statistical association between variables and correlation is just one of them. However, if two variables are independent, this will ensure there is no correlation between them. Another consequence of independence is that if $x$ and $y$ are independent, the conditional probability of $x$ given $y$ is just the probability of $x$:\n",
    "\n",
    "$$ p(x|y) = p(x) $$\n",
    "\n",
    "In other words, by conditioning on a particular $y$, we have learned nothing about $x$ because of independence. Two variables $x$ and $y$ and said to be conditionally independent of $z$ if the following holds:\n",
    "\n",
    "$$ p(x,y|z) = p(x|z) p(y|z) $$\n",
    "\n",
    "Therefore, if we learn about z, x and y become independent. Another way to write that $x$ and $y$ are conditionally independent of $z$ is \n",
    "\n",
    "$$ p(x| z, y) = p(x|z) $$\n",
    "\n",
    "In other words, if we condition on $z$, and now also learn about $y$, this is not going to change the probability of $x$. It is important to realize that conditional independence between $x$ and $y$ does not imply independence between $x$ and $y$. "
   ]
  },
  {
   "cell_type": "markdown",
   "metadata": {},
   "source": [
    "## Distributions \n",
    "\n",
    "A probability distribution (aka probability measure) is a function that takes an event and gives its probability. Sometimes this is not well defined in the whole probability space but we will not worry about this for now.\n",
    "There are two classes of statistical distributions, discete and continous."
   ]
  },
  {
   "cell_type": "markdown",
   "metadata": {},
   "source": [
    "### Discrete distributions"
   ]
  },
  {
   "cell_type": "markdown",
   "metadata": {},
   "source": [
    "### Bernoulli distribution \n",
    "\n",
    "The probability for a yes/no outcome of an experiment, is given by the Bernoulli distribution. The Bernoulli distribution is the mother of all distributions. Every experiment, can always be expressed in terms of success/failure. If you do not know which distribution to use, you can think of any problem as a yes/no problem and starting from there you work your way to all other distributions.  \n",
    "\n",
    "Let $k$ be the outcome of our experiment. Then $p$ is the probability of a success ($k=1$), which means we expect the value $k=1$, $p n$ times out of $n$. The probability for a failure ($k=0$) is $1-p$. For example if we have $p=0.6$ and we repeat our experiment 10 times, we expect 6 experiments to be successful and 4 to be not successful.  \n",
    "\n",
    "$$ f(k;p) = \\begin{cases} p & \\text{if }k=1, \\\\[6pt]\n",
    "1-p & \\text {if }k=0.\\end{cases} $$\n",
    "\n",
    "This can also be expressed as:\n",
    "\n",
    "$$ f(k;p) = p^k (1-p)^{1-k}\\!\\quad \\text{for }k\\in\\{0,1\\}.$$\n",
    "\n",
    "The expected value of a Bernoulli random variable $X$ is $E[X] = p$ and the variance is $Var[X]=p(1-p)$\n",
    "\n",
    "To see this, remember that the expectated value is calculated by $E[X] = \\sum_k k \\cdot p(k) = 1 \\cdot p + 0 \\cdot (1-p) = p$ and the variance is $\\mathrm{var}(X) = E[X^2] - E[X]^2 = p - p^2 = p(1-p) $"
   ]
  },
  {
   "cell_type": "markdown",
   "metadata": {},
   "source": [
    "#### How to generate some random numbers from a Bernoulli distribution"
   ]
  },
  {
   "cell_type": "markdown",
   "metadata": {},
   "source": [
    "We use [scipy.stats](http://docs.scipy.org/doc/scipy-0.14.0/reference/stats.html) as our library to generate random numbers. For the Bernoulli distribution the library provides the function `.rvs(p, size=1)` to generate random numbers (Random Variates), and `.pmf(x,p)` to compute the Probability Mass Function. "
   ]
  },
  {
   "cell_type": "code",
   "execution_count": 2,
   "metadata": {},
   "outputs": [
    {
     "name": "stdout",
     "output_type": "stream",
     "text": [
      "[1 1 1 1 1 1 1 0 0 1]\n"
     ]
    },
    {
     "data": {
      "text/plain": [
       "array([0.3, 0.7])"
      ]
     },
     "execution_count": 2,
     "metadata": {},
     "output_type": "execute_result"
    }
   ],
   "source": [
    "## Draw and print 10 experiment outcomes for p=0.6\n",
    "print(stats.bernoulli.rvs(p=0.6, size=10))\n",
    "\n",
    "## compute the probability mass function for p=0.7\n",
    "stats.bernoulli.pmf([0,1], p=0.7)"
   ]
  },
  {
   "cell_type": "markdown",
   "metadata": {},
   "source": [
    "#### Example Bernoulli Distribution\n",
    "Suppose in last year the class got C or better with probability 0.75. Let the random \n",
    "variable X be the grade with the probability that someone gets a grade higher than C. "
   ]
  },
  {
   "cell_type": "code",
   "execution_count": 3,
   "metadata": {},
   "outputs": [
    {
     "name": "stdout",
     "output_type": "stream",
     "text": [
      "[1 1 1 1 1 0 1 1 1 1 1 0 0 1 0 1 1 0 1 1 1 1 1 1 1 1 0 1 1 1 1 0 1 1 0 1 0\n",
      " 1 1 1 0 1 1 1 1 1 1 1 1 0 1 1 1 1 1 0 1 1 0 1 1 0 0 0 1 1 1 0 1 1 1 1 1 1\n",
      " 1 0 0 0 0 0 1 0 1 1 1 1 1 0 1 0 1 1 1 1 1 1 1 1 1 0]\n",
      "[26 74] [0.  0.5 1. ]\n",
      "Number of samples in each bin:  [26 74]\n"
     ]
    },
    {
     "data": {
      "image/png": "[encoded data removed]",
      "text/plain": [
       "<matplotlib.figure.Figure at 0x115256470>"
      ]
     },
     "metadata": {},
     "output_type": "display_data"
    }
   ],
   "source": [
    "# get the values\n",
    "grades = stats.bernoulli.rvs(0.75, size=100)\n",
    "print(grades)\n",
    "binValues, binBorders = np.histogram(grades, bins=2)\n",
    "print(binValues, binBorders)\n",
    "\n",
    "\n",
    "# plot the result\n",
    "plt.bar([0,1],binValues, width=0.5, align=\"center\")\n",
    "plt.xticks([0,1], ('Fail','Pass') )\n",
    "\n",
    "print(\"Number of samples in each bin: \", binValues)\n"
   ]
  },
  {
   "cell_type": "markdown",
   "metadata": {},
   "source": [
    "## Binomial distribution\n",
    "\n",
    "While the Bernoulli distribution describes the outcome of a single experiment, the Binomial distribution is the distribution of the number of successes in a sequence of $n$ independent yes/no experiments, each of which yields success with probability $p$. Thus, the Bernoulli distribution is equal to the Binomial distribution when $n=1$.   \n",
    "\n",
    "$$f(k; n, p) = {n\\choose k}p^k(1-p)^{n-k} $$\n",
    "\n",
    "where\n",
    "\n",
    "$${n\\choose k}=\\frac{n!}{k!(n-k)!}$$\n",
    "\n",
    "The expected value of a random variable $X$ is $E[X]=np$ and the variance is $Var[X]=np(1-p)$"
   ]
  },
  {
   "cell_type": "markdown",
   "metadata": {},
   "source": [
    "The following plot shows histograms for data generated from a Binomial distribution with different values for $p$. "
   ]
  },
  {
   "cell_type": "code",
   "execution_count": 4,
   "metadata": {},
   "outputs": [
    {
     "data": {
      "text/plain": [
       "<matplotlib.legend.Legend at 0x11ad58eb8>"
      ]
     },
     "execution_count": 4,
     "metadata": {},
     "output_type": "execute_result"
    },
    {
     "data": {
      "image/png": "[encoded data removed]",
      "text/plain": [
       "<matplotlib.figure.Figure at 0x1152560b8>"
      ]
     },
     "metadata": {},
     "output_type": "display_data"
    }
   ],
   "source": [
    "# generate and plot random variates for different values of p\n",
    "for p in [0.1, 0.3, 0.6, 0.8]:\n",
    "    randomVariates = stats.binom.rvs(100, p, size=1000)\n",
    "    plt.hist(randomVariates, alpha=0.5, label='p=' + np.str(p))\n",
    "\n",
    "plt.legend()\n",
    "#plt.show()"
   ]
  },
  {
   "cell_type": "markdown",
   "metadata": {},
   "source": [
    "#### Example Binomial distribution\n",
    "\n",
    "What is the probability of 30 people getting a C or higher this year assuming we have 50 students in total?"
   ]
  },
  {
   "cell_type": "code",
   "execution_count": 5,
   "metadata": {},
   "outputs": [
    {
     "name": "stdout",
     "output_type": "stream",
     "text": [
      "The probability of 30 students passing course is:\n",
      "0.0076547014310495804\n"
     ]
    }
   ],
   "source": [
    "numberOfStudents = 30\n",
    "totalNumberOfStudents = 50\n",
    "p = 0.75\n",
    "\n",
    "print(\"The probability of 30 students passing course is:\")\n",
    "print(stats.binom.pmf(numberOfStudents, totalNumberOfStudents, p))"
   ]
  },
  {
   "cell_type": "markdown",
   "metadata": {},
   "source": [
    "That seems rather low, if we forget that we asked for the probability of exactly 8 students passing course, not at least 8 students. Let's look at the full histogram."
   ]
  },
  {
   "cell_type": "code",
   "execution_count": 6,
   "metadata": {},
   "outputs": [
    {
     "data": {
      "text/plain": [
       "<matplotlib.legend.Legend at 0x11adc6630>"
      ]
     },
     "execution_count": 6,
     "metadata": {},
     "output_type": "execute_result"
    },
    {
     "data": {
      "image/png": "[encoded data removed]",
      "text/plain": [
       "<matplotlib.figure.Figure at 0x11adc67f0>"
      ]
     },
     "metadata": {},
     "output_type": "display_data"
    }
   ],
   "source": [
    "randomVariates = stats.binom.rvs(totalNumberOfStudents, p=p, size=10000)\n",
    "plt.hist(randomVariates, bins=range(0,totalNumberOfStudents+1), alpha=0.5, label='p=' + np.str(p))\n",
    "\n",
    "plt.legend()\n"
   ]
  },
  {
   "cell_type": "markdown",
   "metadata": {},
   "source": [
    "As you can see the probability of 30 students passing is indeed rather low, but the probability of 40 students passing is much higher. What if we would like to know the probability of at least 30 students passing? We could look at the cumulative distribution and go from there, or we can use our samples from above and just count."
   ]
  },
  {
   "cell_type": "code",
   "execution_count": 7,
   "metadata": {},
   "outputs": [
    {
     "name": "stdout",
     "output_type": "stream",
     "text": [
      "Probability of at least 30 students passing:  0.9841\n"
     ]
    }
   ],
   "source": [
    "print(\"Probability of at least 30 students passing: \", np.sum(randomVariates>numberOfStudents)/float(len(randomVariates)))"
   ]
  },
  {
   "cell_type": "markdown",
   "metadata": {},
   "source": [
    "## Poisson distribution\n",
    "\n",
    "The Poisson distribution is another discrete distribution, it expresses the probability of a given number of events occurring in a fixed interval of time (or space, volume, etc.). One assumption made is that these events occur with a known average rate and independently of each other. An example is the number of electrons detected by a sensor in an electron microscope during a time interval, or the number of soldiers in the Prussian army killed accidentally by horse kicks [(see here)](http://en.wikipedia.org/wiki/Poisson_distribution).\n",
    "\n",
    "The Poisson distribution is defined as:\n",
    "\n",
    "\n",
    "$$ f(k; \\lambda)= \\frac{\\lambda^k e^{-\\lambda}}{k!}, $$\n",
    "\n",
    "where $k$ is the number of events, $\\lambda$ is a positive real number, and $e$ is Euler's number ($e = 2.71828 \\ldots$)."
   ]
  },
  {
   "cell_type": "code",
   "execution_count": 8,
   "metadata": {},
   "outputs": [
    {
     "data": {
      "text/plain": [
       "<matplotlib.legend.Legend at 0x11af05438>"
      ]
     },
     "execution_count": 8,
     "metadata": {},
     "output_type": "execute_result"
    },
    {
     "data": {
      "image/png": "[encoded data removed]",
      "text/plain": [
       "<matplotlib.figure.Figure at 0x11287cfd0>"
      ]
     },
     "metadata": {},
     "output_type": "display_data"
    }
   ],
   "source": [
    "# generate samples for different values of lambda\n",
    "for lambdaParameter in [1,6,14]:\n",
    "    randomVariates = stats.poisson.rvs(lambdaParameter, size=1000)\n",
    "    plt.hist(randomVariates, alpha=0.5, bins=range(0,26), label='$\\lambda=' + np.str(lambdaParameter) + '$')\n",
    "\n",
    "plt.legend()\n"
   ]
  },
  {
   "cell_type": "markdown",
   "metadata": {},
   "source": [
    "## Continuous variables\n",
    "\n",
    "The difficulty with continuous random variables is that you can’t find the probability of the exact event. The problem is  that every value of a concrete random variate is $0$, but if you add enough values together you have something with a positive value. So the usual way around this difficulty, is to define probabilities for intervals."
   ]
  },
  {
   "cell_type": "markdown",
   "metadata": {},
   "source": [
    "### Normal Distribution\n",
    "\n",
    "Probably the most important of all distributions is the normal distribution. Many phenomena in nature follow this distribution. Due to the Central Limit Theorem which states that, the distribution of a sum of random variables can be approximated by a normal distribution. A Normal distribution with mean $\\mu$ and standard deviation $\\sigma$ is defined as:\n",
    "\n",
    "$$ f(x; \\mu, \\sigma) = \\frac{1}{\\sigma\\sqrt{2\\pi}} e^{ -\\frac{(x-\\mu)^2}{2\\sigma^2} }, $$\n",
    "\n",
    "So if your data is the sum of many independent processes it is most likely normally distributed (or very close to it). An important example are measurement errors.\n",
    "Let's look at some normal distributions."
   ]
  },
  {
   "cell_type": "code",
   "execution_count": 9,
   "metadata": {},
   "outputs": [
    {
     "data": {
      "text/plain": [
       "<matplotlib.legend.Legend at 0x11b031828>"
      ]
     },
     "execution_count": 9,
     "metadata": {},
     "output_type": "execute_result"
    },
    {
     "data": {
      "image/png": "[encoded data removed]",
      "text/plain": [
       "<matplotlib.figure.Figure at 0x11b03a668>"
      ]
     },
     "metadata": {},
     "output_type": "display_data"
    }
   ],
   "source": [
    "x = np.linspace(-10,20, num=200)\n",
    "\n",
    "for mu, sigma in zip([-3, 3, 10], [1, 2, 5]):\n",
    "    plt.plot(x, stats.norm.pdf(x, mu, sigma), lw=2, \n",
    "             label = r\"$\\mu = {0:.1f}, \\sigma={1:.1f}$\".format(mu, sigma))\n",
    "plt.legend()\n"
   ]
  },
  {
   "cell_type": "markdown",
   "metadata": {},
   "source": [
    "### Exponential Distribution\n",
    "The exponential distribution is the probability distribution that describes the time between events in a Poisson process,i.e. a process in which events occur continuously and independently at a constant average rate.\n",
    "\n",
    "Note that the exponential distribution is not the same as the class of exponential families of distributions, which is a large class of probability distributions that includes the exponential distribution as one of its members, but also includes the normal distribution, binomial distribution, gamma distribution, Poisson, and many others.\n",
    "\n",
    "$$f(x;\\lambda) = \\begin{cases}\n",
    "\\lambda e^{-\\lambda x} & x \\ge 0, \\\\\n",
    "0 & x < 0.\n",
    "\\end{cases}$$\n",
    "\n",
    "Therefore, the random variable X has an exponential distribution with parameter $\\lambda$, we say $X$ is exponential and write\n",
    "$ X∼Exp(\\lambda)$\n",
    "Given a specific $\\lambda$, the expected value of an exponential random variable is equal to the inverse of $\\lambda$, that is:\n",
    "$E[X|\\lambda]=\\frac{1}{\\lambda}$"
   ]
  },
  {
   "cell_type": "code",
   "execution_count": 10,
   "metadata": {},
   "outputs": [
    {
     "data": {
      "text/plain": [
       "<matplotlib.legend.Legend at 0x11c2725f8>"
      ]
     },
     "execution_count": 10,
     "metadata": {},
     "output_type": "execute_result"
    },
    {
     "data": {
      "image/png": "[encoded data removed]",
      "text/plain": [
       "<matplotlib.figure.Figure at 0x11aca3710>"
      ]
     },
     "metadata": {},
     "output_type": "display_data"
    }
   ],
   "source": [
    "x = np.linspace(0,4, 100)\n",
    "lambdaParameter = [0.5, 1, 2, 4]\n",
    "for l in lambdaParameter:\n",
    "    plt.plot(x, stats.expon.pdf(x, scale=1./l), lw=2, label = \"$\\lambda = %.1f$\"%l)    \n",
    "plt.legend()\n"
   ]
  }
 ],
 "metadata": {
  "kernelspec": {
   "display_name": "Python 3",
   "language": "python",
   "name": "python3"
  },
  "language_info": {
   "codemirror_mode": {
    "name": "ipython",
    "version": 3
   },
   "file_extension": ".py",
   "mimetype": "text/x-python",
   "name": "python",
   "nbconvert_exporter": "python",
   "pygments_lexer": "ipython3",
   "version": "3.6.4"
  }
 },
 "nbformat": 4,
 "nbformat_minor": 1
}
