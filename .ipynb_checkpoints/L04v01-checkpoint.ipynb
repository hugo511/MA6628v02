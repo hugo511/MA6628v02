{
 "cells": [
  {
   "cell_type": "markdown",
   "metadata": {},
   "source": [
    "__Black and Scholes formula__\n",
    "\n",
    "BS model assumes the distribution of stock as lognormal. In particular, it writes \n",
    "$$\\ln \\frac{S(T)}{S(0)} \\sim \\mathcal N((r - \\delta - \\frac 1 2 \\sigma^2) T, \\sigma^2 T)$$\n",
    "with respect to risk neutral measure. In the above, the parameters stand for\n",
    "\n",
    "* $S(0)$: The initial stock price\n",
    "* $S(T)$: The stock price at $T$\n",
    "* $r$: interest rate\n",
    "* $\\sigma$: volatility\n",
    "* $\\delta$: dividend yield\n",
    "\n",
    "The call and put price with maturity $T$ and $K$ will be known as $C_0$ and $P_0$ given as below:\n",
    "$$C_0 = \\mathbb E [e^{-rT} (S(T) - K)^+] = S_0 e^{-\\delta T} \\Phi(d_1) - K e^{-rT} \\Phi(d_2),$$\n",
    "and \n",
    "$$P_0 = \\mathbb E [e^{-rT} (S(T) - K)^-] = K e^{-rT} \\Phi(- d_2) - S_0 e^{-\\delta T} \\Phi(- d_1),$$\n",
    "where $d_i$ are given as\n",
    "$$d_1 = \\frac{(r-\\delta + \\frac 1 2 \\sigma^2) T - \\ln \\frac{K}{S_0}}{\\sigma \\sqrt T},$$\n",
    "and\n",
    "$$d_2 = \\frac{(r-\\delta - \\frac 1 2 \\sigma^2) T - \\ln \\frac{K}{S_0}}{\\sigma \\sqrt T},$$"
   ]
  },
  {
   "cell_type": "markdown",
   "metadata": {},
   "source": [
    "**ex** \n",
    "\n",
    "Verify put-call parity: \n",
    "    $$C_0 - P_0 = e^{-\\delta T} S(0) - e^{-rT} K.$$"
   ]
  },
  {
   "cell_type": "markdown",
   "metadata": {},
   "source": [
    "Black and Scholes formula for European call and put is coded and an example will be demonstrated\n"
   ]
  },
  {
   "cell_type": "code",
   "execution_count": 1,
   "metadata": {},
   "outputs": [],
   "source": [
    "#BS formula is given here\n",
    "import numpy as np\n",
    "import scipy.stats as ss\n",
    "import time "
   ]
  },
  {
   "cell_type": "code",
   "execution_count": 2,
   "metadata": {},
   "outputs": [],
   "source": [
    "#Black and Scholes\n",
    "def d1(S0, K, r, sigma, T, delta):\n",
    "    return (np.log(S0/K) + (r - delta + sigma**2 / 2) * T)/(sigma * np.sqrt(T))\n",
    " \n",
    "def d2(S0, K, r, sigma, T, delta):\n",
    "    return (np.log(S0 / K) + (r -delta - sigma**2 / 2) * T) / (sigma * np.sqrt(T))\n",
    "\n",
    "#BS formula for Call (type = \"C\") and Put (type = \"P\")\n",
    "def BlackScholes(type,S0, K, r, sigma, T, delta):\n",
    "    if type==\"C\":\n",
    "        return S0 * np.exp(-delta*T) * ss.norm.cdf(d1(S0, K, r, sigma, T, delta)) - K * np.exp(-r * T) * ss.norm.cdf(d2(S0, K, r, sigma, T, delta))\n",
    "    else:\n",
    "       return K * np.exp(-r * T) * ss.norm.cdf(-d2(S0, K, r, sigma, T, delta)) - S0  * np.exp(-delta*T) * ss.norm.cdf(-d1(S0, K, r, sigma, T, delta))\n"
   ]
  },
  {
   "cell_type": "markdown",
   "metadata": {},
   "source": [
    "**Ex.**\n",
    "\n",
    "Find BS Put price for the given parameters below"
   ]
  },
  {
   "cell_type": "code",
   "execution_count": 3,
   "metadata": {},
   "outputs": [],
   "source": [
    "#An example is given here\n",
    "S0 = 100.0\n",
    "K = 110.0\n",
    "r=0.0475\n",
    "sigma = 0.20\n",
    "T = 1.\n",
    "Otype='P'\n",
    "delta = 0\n"
   ]
  },
  {
   "cell_type": "code",
   "execution_count": 4,
   "metadata": {},
   "outputs": [
    {
     "name": "stdout",
     "output_type": "stream",
     "text": [
      "10.84042522804176\n"
     ]
    }
   ],
   "source": [
    "#Implementation\n",
    "c_BS = BlackScholes(Otype,S0, K, r, sigma, T, delta)\n",
    "print(c_BS)"
   ]
  },
  {
   "cell_type": "markdown",
   "metadata": {},
   "source": [
    "**Application to Geometric asian option price**"
   ]
  },
  {
   "cell_type": "markdown",
   "metadata": {},
   "source": [
    "Geometric asian call option with maturity $T$ and strick $K$ has its pay off as\n",
    "$$C(T) = (A(T) - K)^+,$$\n",
    "where $A(T)$ is geometric average of the stock price at times\n",
    "$0 \\le t_1 < t_2, \\ldots, < t_n = T$, i.e.\n",
    "$$A(T) = (S(t_1)S(t_2) \\ldots S(t_n))^{1/n}.$$\n",
    "\n",
    "The call price can be thus written by\n",
    "$$C_0 = \\mathbb E [e^{-rT} (A(T) - K)^+].$$\n",
    "\n",
    "We set $t_0 = 0$.\n",
    "Under the above BS model, one can show that the distribution of $A(T)$ is again a lognormal in the form of\n",
    "$$\\ln \\frac{A(T)}{A(0)} \\sim \\mathcal N(\\frac \\mu n \\sum_{i=1}^n t_i, \\  \\frac{\\sigma^2}{n^2} \\sum_{j=0}^{n-1} (n-j)^2 (t_{j+1} - t_j)),$$\n",
    "where $A(0) = S(0)$, $\\mu = r - \\delta - \\frac 1 2 \\sigma^2$. Therefore, we can rewrite the price formula as, with $Z\\sim \\mathcal N(0,1)$\n",
    "$$C_0 = \\mathbb E[ e^{-rT} (S(0) e^{ (r - \\hat \\delta - \\frac 1 2 \\hat \\sigma^2) T + \\hat \\sigma T Z} - K)^+] = BlackScholes('C',S(0), K, r, \\hat\\sigma, T, \\hat \\delta)$$\n",
    "with $\\hat \\sigma$ and $\\hat \\delta$ is determined from\n",
    "$$\\hat \\sigma^2 T = \\frac{\\sigma^2}{n^2} \\sum_{j=0}^{n-1} (n-j)^2 (t_{j+1} - t_j))$$\n",
    "and\n",
    "$$(r - \\hat \\delta - \\frac 1 2 \\hat \\sigma^2) T = \\frac{\\mu}{n} \\sum_{i=1}^n t_i.$$"
   ]
  },
  {
   "cell_type": "markdown",
   "metadata": {},
   "source": [
    "**Ex.**\n",
    "Find Geometric asian call price for the following parameters:\n"
   ]
  },
  {
   "cell_type": "code",
   "execution_count": 5,
   "metadata": {},
   "outputs": [],
   "source": [
    "#An example is given here\n",
    "S0 = 100.0\n",
    "K = 110.0\n",
    "r=0.0475\n",
    "sigma = 0.20\n",
    "T = 1.\n",
    "Otype='C'\n",
    "delta = 0.\n",
    "n = 5\n",
    "t = np.linspace(0., T, n)\n"
   ]
  },
  {
   "cell_type": "code",
   "execution_count": 7,
   "metadata": {},
   "outputs": [
    {
     "name": "stdout",
     "output_type": "stream",
     "text": [
      "1.60716472743173\n"
     ]
    }
   ],
   "source": [
    "#tt represents tenors with adding t_0 = 0.\n",
    "tt = np.append([0], t)\n",
    "\n",
    "tmp = 0.\n",
    "for j in range(n):\n",
    "    tmp = tmp + np.power(n-j, 2) * (tt[j+1] - tt[j])\n",
    "sigma_hat = np.power(tmp/T, .5)*sigma/n\n",
    "\n",
    "\n",
    "mu = r - delta - sigma**2/2.\n",
    "delta_hat = r - sigma_hat**2/2. - np.sum(tt)*mu/n/T\n",
    "\n",
    "#Implementation\n",
    "a_BS = BlackScholes(Otype,S0, K, r, sigma_hat, T, delta_hat)\n",
    "print(a_BS)"
   ]
  },
  {
   "cell_type": "code",
   "execution_count": null,
   "metadata": {},
   "outputs": [],
   "source": []
  }
 ],
 "metadata": {
  "kernelspec": {
   "display_name": "Python 3",
   "language": "python",
   "name": "python3"
  },
  "language_info": {
   "codemirror_mode": {
    "name": "ipython",
    "version": 3
   },
   "file_extension": ".py",
   "mimetype": "text/x-python",
   "name": "python",
   "nbconvert_exporter": "python",
   "pygments_lexer": "ipython3",
   "version": "3.6.4"
  }
 },
 "nbformat": 4,
 "nbformat_minor": 1
}
