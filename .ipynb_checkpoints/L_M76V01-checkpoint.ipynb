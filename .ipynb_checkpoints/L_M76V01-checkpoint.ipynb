{
 "cells": [
  {
   "cell_type": "code",
   "execution_count": 5,
   "metadata": {},
   "outputs": [],
   "source": [
    "import numpy as np\n",
    "import pandas as pd\n",
    "import matplotlib.pyplot as plt"
   ]
  },
  {
   "cell_type": "code",
   "execution_count": 3,
   "metadata": {},
   "outputs": [
    {
     "name": "stdout",
     "output_type": "stream",
     "text": [
      "Value of Call Option  119.360\n",
      "CALL STRIKE         3000.000\n",
      "----------------------------\n",
      "Call Value by Int    273.875\n",
      "Call Value by FFT    273.856\n",
      "Difference FFT/Int    -0.018\n",
      "Call Value by MCS    274.741\n",
      "Difference MCS/Int     0.867\n",
      "----------------------------\n",
      "CALL STRIKE         3050.000\n",
      "----------------------------\n",
      "Call Value by Int    235.371\n",
      "Call Value by FFT    235.366\n",
      "Difference FFT/Int    -0.005\n",
      "Call Value by MCS    236.215\n",
      "Difference MCS/Int     0.844\n",
      "----------------------------\n",
      "CALL STRIKE         3100.000\n",
      "----------------------------\n",
      "Call Value by Int    198.942\n",
      "Call Value by FFT    198.955\n",
      "Difference FFT/Int     0.013\n",
      "Call Value by MCS    199.739\n",
      "Difference MCS/Int     0.797\n",
      "----------------------------\n",
      "CALL STRIKE         3150.000\n",
      "----------------------------\n",
      "Call Value by Int    164.918\n",
      "Call Value by FFT    164.940\n",
      "Difference FFT/Int     0.022\n",
      "Call Value by MCS    165.654\n",
      "Difference MCS/Int     0.736\n",
      "----------------------------\n",
      "CALL STRIKE         3200.000\n",
      "----------------------------\n",
      "Call Value by Int    133.699\n",
      "Call Value by FFT    133.715\n",
      "Difference FFT/Int     0.016\n",
      "Call Value by MCS    134.354\n",
      "Difference MCS/Int     0.654\n",
      "----------------------------\n",
      "CALL STRIKE         3250.000\n",
      "----------------------------\n",
      "Call Value by Int    105.703\n",
      "Call Value by FFT    105.702\n",
      "Difference FFT/Int    -0.001\n",
      "Call Value by MCS    106.254\n",
      "Difference MCS/Int     0.552\n",
      "----------------------------\n",
      "CALL STRIKE         3300.000\n",
      "----------------------------\n",
      "Call Value by Int     81.280\n",
      "Call Value by FFT     81.263\n",
      "Difference FFT/Int    -0.017\n",
      "Call Value by MCS     81.696\n",
      "Difference MCS/Int     0.416\n",
      "----------------------------\n",
      "CALL STRIKE         3350.000\n",
      "----------------------------\n",
      "Call Value by Int     60.644\n",
      "Call Value by FFT     60.621\n",
      "Difference FFT/Int    -0.023\n",
      "Call Value by MCS     60.936\n",
      "Difference MCS/Int     0.292\n",
      "----------------------------\n",
      "CALL STRIKE         3400.000\n",
      "----------------------------\n",
      "Call Value by Int     43.813\n",
      "Call Value by FFT     43.799\n",
      "Difference FFT/Int    -0.015\n",
      "Call Value by MCS     43.973\n",
      "Difference MCS/Int     0.160\n",
      "----------------------------\n",
      "CALL STRIKE         3450.000\n",
      "----------------------------\n",
      "Call Value by Int     30.601\n",
      "Call Value by FFT     30.603\n",
      "Difference FFT/Int     0.002\n",
      "Call Value by MCS     30.671\n",
      "Difference MCS/Int     0.070\n",
      "----------------------------\n",
      "CALL STRIKE         3500.000\n",
      "----------------------------\n",
      "Call Value by Int     20.639\n",
      "Call Value by FFT     20.657\n",
      "Difference FFT/Int     0.018\n",
      "Call Value by MCS     20.678\n",
      "Difference MCS/Int     0.039\n",
      "----------------------------\n",
      "CALL STRIKE         3550.000\n",
      "----------------------------\n",
      "Call Value by Int     13.438\n",
      "Call Value by FFT     13.461\n",
      "Difference FFT/Int     0.023\n",
      "Call Value by MCS     13.472\n",
      "Difference MCS/Int     0.034\n",
      "----------------------------\n",
      "CALL STRIKE         3600.000\n",
      "----------------------------\n",
      "Call Value by Int      8.449\n",
      "Call Value by FFT      8.465\n",
      "Difference FFT/Int     0.016\n",
      "Call Value by MCS      8.488\n",
      "Difference MCS/Int     0.039\n",
      "----------------------------\n"
     ]
    }
   ],
   "source": [
    "%run M76_valuation_MCS.py\n",
    "#from 08_m76/M76_valuation_MCS import *"
   ]
  },
  {
   "cell_type": "code",
   "execution_count": 4,
   "metadata": {},
   "outputs": [],
   "source": [
    "S0 = 3225.93  # EURO STOXX 50 level (30.09.2014)\n",
    "T = 0.22  # shortest maturity\n",
    "r = 0.005  # assumption\n",
    "\n",
    "# from calibration\n",
    "sigma, lamb, mu, delta = [0.124, 1.393, -0.137, 0.000]"
   ]
  },
  {
   "cell_type": "code",
   "execution_count": 5,
   "metadata": {},
   "outputs": [
    {
     "ename": "NameError",
     "evalue": "name 'plt' is not defined",
     "output_type": "error",
     "traceback": [
      "\u001b[0;31m---------------------------------------------------------------------------\u001b[0m",
      "\u001b[0;31mNameError\u001b[0m                                 Traceback (most recent call last)",
      "\u001b[0;32m<ipython-input-5-5fdc49a0decc>\u001b[0m in \u001b[0;36m<module>\u001b[0;34m()\u001b[0m\n\u001b[1;32m      6\u001b[0m \u001b[0;34m\u001b[0m\u001b[0m\n\u001b[1;32m      7\u001b[0m \u001b[0;32mfor\u001b[0m \u001b[0mi\u001b[0m \u001b[0;32min\u001b[0m \u001b[0mrange\u001b[0m\u001b[0;34m(\u001b[0m\u001b[0mI\u001b[0m\u001b[0;34m)\u001b[0m\u001b[0;34m:\u001b[0m\u001b[0;34m\u001b[0m\u001b[0m\n\u001b[0;32m----> 8\u001b[0;31m     \u001b[0mplt\u001b[0m\u001b[0;34m.\u001b[0m\u001b[0mplot\u001b[0m\u001b[0;34m(\u001b[0m\u001b[0mtimegrid\u001b[0m\u001b[0;34m,\u001b[0m \u001b[0mS\u001b[0m\u001b[0;34m[\u001b[0m\u001b[0;34m:\u001b[0m\u001b[0;34m,\u001b[0m\u001b[0mi\u001b[0m\u001b[0;34m]\u001b[0m\u001b[0;34m)\u001b[0m\u001b[0;34m\u001b[0m\u001b[0m\n\u001b[0m",
      "\u001b[0;31mNameError\u001b[0m: name 'plt' is not defined"
     ]
    }
   ],
   "source": [
    "M = 100\n",
    "I = 5\n",
    "S = M76_generate_paths(S0, T, r, sigma, lamb, mu, delta, M, I)\n",
    "\n",
    "timegrid = np.linspace(0, T, M+1)\n",
    "\n",
    "for i in range(I):\n",
    "    plt.plot(timegrid, S[:,i])"
   ]
  },
  {
   "cell_type": "code",
   "execution_count": null,
   "metadata": {},
   "outputs": [],
   "source": []
  }
 ],
 "metadata": {
  "kernelspec": {
   "display_name": "Python 3",
   "language": "python",
   "name": "python3"
  },
  "language_info": {
   "codemirror_mode": {
    "name": "ipython",
    "version": 3
   },
   "file_extension": ".py",
   "mimetype": "text/x-python",
   "name": "python",
   "nbconvert_exporter": "python",
   "pygments_lexer": "ipython3",
   "version": "3.6.4"
  }
 },
 "nbformat": 4,
 "nbformat_minor": 2
}
