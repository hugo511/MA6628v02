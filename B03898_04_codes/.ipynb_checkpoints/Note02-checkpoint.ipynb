{
 "cells": [
  {
   "cell_type": "markdown",
   "metadata": {},
   "source": [
    "# Binomial LR With Greeks"
   ]
  },
  {
   "cell_type": "code",
   "execution_count": 1,
   "metadata": {},
   "outputs": [
    {
     "name": "stdout",
     "output_type": "stream",
     "text": [
      "European call values\n",
      "Price: 4.803864657409284\n",
      "Delta: 0.5888015221823649\n",
      "Gamma: 0.036736782388357196\n"
     ]
    }
   ],
   "source": [
    "%reset -f\n",
    "from BinomialLRWithGreeks import BinomialLRWithGreeks\n",
    "\n",
    "eu_call = BinomialLRWithGreeks(\n",
    "        50, 50, 0.05, 0.5, 300, {\"sigma\": 0.3, \"is_call\": True})\n",
    "\n",
    "results = eu_call.price()\n",
    "print(\"European call values\")\n",
    "print(\"Price: %s\\nDelta: %s\\nGamma: %s\" % results)"
   ]
  },
  {
   "cell_type": "code",
   "execution_count": 2,
   "metadata": {},
   "outputs": [
    {
     "name": "stdout",
     "output_type": "stream",
     "text": [
      "European put values\n",
      "Price: 3.569360258827997\n",
      "Delta: -0.41119847781760727\n",
      "Gamma: 0.03673678238835338\n"
     ]
    }
   ],
   "source": [
    "eu_put = BinomialLRWithGreeks(\n",
    "        50, 50, 0.05, 0.5, 300, {\"sigma\":0.3, \"is_call\": False})\n",
    "results = eu_put.price()\n",
    "print(\"European put values\")\n",
    "print(\"Price: %s\\nDelta: %s\\nGamma: %s\" % results)"
   ]
  },
  {
   "cell_type": "markdown",
   "metadata": {},
   "source": [
    "# Trinomial Tree Option"
   ]
  },
  {
   "cell_type": "code",
   "execution_count": 3,
   "metadata": {},
   "outputs": [],
   "source": [
    "from TrinomialTreeOption import TrinomialTreeOption"
   ]
  },
  {
   "cell_type": "code",
   "execution_count": 4,
   "metadata": {},
   "outputs": [
    {
     "name": "stdout",
     "output_type": "stream",
     "text": [
      "European put: 3.330905491759248\n",
      "American put: 3.48241453902267\n"
     ]
    }
   ],
   "source": [
    "print(\"European put:\", TrinomialTreeOption(\n",
    "        50, 50, 0.05, 0.5, 2, {\"sigma\": 0.3, \"is_call\": False}).price())\n",
    "print(\"American put:\", TrinomialTreeOption(\n",
    "        50, 50, 0.05, 0.5, 2,  {\"sigma\": 0.3, \"is_call\": False, \"is_eu\": False}).price())"
   ]
  },
  {
   "cell_type": "markdown",
   "metadata": {},
   "source": [
    "# Binomial CRR Lattice"
   ]
  },
  {
   "cell_type": "code",
   "execution_count": 5,
   "metadata": {},
   "outputs": [],
   "source": [
    "from BinomialCRRLattice import BinomialCRRLattice"
   ]
  },
  {
   "cell_type": "code",
   "execution_count": 6,
   "metadata": {},
   "outputs": [
    {
     "name": "stdout",
     "output_type": "stream",
     "text": [
      "European put: 3.1051473412967057\n",
      "American put: 3.409181496404833\n"
     ]
    }
   ],
   "source": [
    "eu_option = BinomialCRRLattice(\n",
    "        50, 50, 0.05, 0.5, 2,\n",
    "        {\"sigma\": 0.3, \"is_call\": False})\n",
    "print(\"European put: %s\" % eu_option.price())\n",
    "\n",
    "am_option = BinomialCRRLattice(\n",
    "        50, 50, 0.05, 0.5, 2,\n",
    "        {\"sigma\": 0.3, \"is_call\": False, \"is_eu\": False})\n",
    "print(\"American put: %s\" % am_option.price())"
   ]
  },
  {
   "cell_type": "markdown",
   "metadata": {},
   "source": [
    "# Trinomial Lattice"
   ]
  },
  {
   "cell_type": "code",
   "execution_count": 7,
   "metadata": {},
   "outputs": [],
   "source": [
    "%reset -f\n",
    "from TrinomialLattice import TrinomialLattice"
   ]
  },
  {
   "cell_type": "code",
   "execution_count": 8,
   "metadata": {},
   "outputs": [
    {
     "name": "stdout",
     "output_type": "stream",
     "text": [
      "European put: 3.330905491759248\n",
      "American put: 3.48241453902267\n"
     ]
    }
   ],
   "source": [
    "eu_option = TrinomialLattice(\n",
    "        50, 50, 0.05, 0.5, 2,\n",
    "        {\"sigma\": 0.3, \"is_call\":False})\n",
    "print(\"European put: %s\" % eu_option.price())\n",
    "\n",
    "am_option = TrinomialLattice(\n",
    "        50, 50, 0.05, 0.5, 2,\n",
    "        {\"sigma\": 0.3, \"is_call\": False, \"is_eu\": False})\n",
    "print(\"American put: %s\" % am_option.price())\n",
    "    "
   ]
  },
  {
   "cell_type": "code",
   "execution_count": null,
   "metadata": {},
   "outputs": [],
   "source": []
  }
 ],
 "metadata": {
  "kernelspec": {
   "display_name": "Python 3",
   "language": "python",
   "name": "python3"
  },
  "language_info": {
   "codemirror_mode": {
    "name": "ipython",
    "version": 3
   },
   "file_extension": ".py",
   "mimetype": "text/x-python",
   "name": "python",
   "nbconvert_exporter": "python",
   "pygments_lexer": "ipython3",
   "version": "3.6.4"
  }
 },
 "nbformat": 4,
 "nbformat_minor": 2
}
