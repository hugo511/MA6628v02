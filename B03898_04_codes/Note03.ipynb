{
 "cells": [
  {
   "cell_type": "markdown",
   "metadata": {},
   "source": [
    "# FD Explicit Eu"
   ]
  },
  {
   "cell_type": "code",
   "execution_count": 1,
   "metadata": {},
   "outputs": [],
   "source": [
    "from FDExplicitEu import FDExplicitEu"
   ]
  },
  {
   "cell_type": "code",
   "execution_count": 2,
   "metadata": {},
   "outputs": [
    {
     "name": "stdout",
     "output_type": "stream",
     "text": [
      "4.072882278148043\n",
      "-1.6291077072251005e+53\n"
     ]
    }
   ],
   "source": [
    "option = FDExplicitEu(50, 50, 0.1, 5./12., 0.4, 100, 100,\n",
    "                                  1000, False)\n",
    "print(option.price())\n",
    "\n",
    "option = FDExplicitEu(50, 50, 0.1, 5./12., 0.4, 100, 100,\n",
    "                          100, False)\n",
    "print(option.price())"
   ]
  },
  {
   "cell_type": "markdown",
   "metadata": {},
   "source": [
    "# FD Implicit Eu"
   ]
  },
  {
   "cell_type": "code",
   "execution_count": 3,
   "metadata": {},
   "outputs": [],
   "source": [
    "from FDImplicitEu import FDImplicitEu"
   ]
  },
  {
   "cell_type": "code",
   "execution_count": 4,
   "metadata": {},
   "outputs": [
    {
     "name": "stdout",
     "output_type": "stream",
     "text": [
      "4.065801939431455\n",
      "4.071594188049887\n"
     ]
    }
   ],
   "source": [
    "option = FDImplicitEu(50, 50, 0.1, 5./12., 0.4, 100, 100,\n",
    "                          100, False)\n",
    "print(option.price())\n",
    "\n",
    "option = FDImplicitEu(50, 50, 0.1, 5./12., 0.4, 100, 100,\n",
    "                          1000, False)\n",
    "print(option.price())"
   ]
  },
  {
   "cell_type": "markdown",
   "metadata": {},
   "source": [
    "# FD Cn Eu"
   ]
  },
  {
   "cell_type": "code",
   "execution_count": 5,
   "metadata": {},
   "outputs": [],
   "source": [
    "from FDCnEu import FDCnEu"
   ]
  },
  {
   "cell_type": "code",
   "execution_count": 6,
   "metadata": {},
   "outputs": [
    {
     "name": "stdout",
     "output_type": "stream",
     "text": [
      "4.072254507998115\n",
      "4.072238354486825\n"
     ]
    }
   ],
   "source": [
    "option = FDCnEu(50, 50, 0.1, 5./12., 0.4, 100, 100,\n",
    "                    100, False)\n",
    "print(option.price())\n",
    "\n",
    "option = FDCnEu(50, 50, 0.1, 5./12., 0.4, 100, 100,\n",
    "                    1000, False)\n",
    "print(option.price())"
   ]
  },
  {
   "cell_type": "markdown",
   "metadata": {},
   "source": [
    "# FD Cn Do"
   ]
  },
  {
   "cell_type": "code",
   "execution_count": 7,
   "metadata": {},
   "outputs": [
    {
     "name": "stdout",
     "output_type": "stream",
     "text": [
      "5.4915605529347795\n",
      "0.5413635028954454\n"
     ]
    }
   ],
   "source": [
    "from FDCnDo import FDCnDo\n",
    "option = FDCnDo(50, 50, 0.1, 5./12., 0.4, 40, 100, 120,\n",
    "                    500)\n",
    "print(option.price())\n",
    "\n",
    "option = FDCnDo(50, 50, 0.1, 5./12., 0.4, 40, 100, 120,\n",
    "                    500, False)\n",
    "print(option.price())\n",
    "    "
   ]
  },
  {
   "cell_type": "markdown",
   "metadata": {},
   "source": [
    "# FD Cn Am"
   ]
  },
  {
   "cell_type": "code",
   "execution_count": 8,
   "metadata": {},
   "outputs": [],
   "source": [
    "from FDCnAm import FDCnAm"
   ]
  },
  {
   "cell_type": "code",
   "execution_count": 9,
   "metadata": {},
   "outputs": [
    {
     "name": "stdout",
     "output_type": "stream",
     "text": [
      "6.108682815392214\n",
      "4.277764229383738\n"
     ]
    }
   ],
   "source": [
    "option = FDCnAm(50, 50, 0.1, 5./12., 0.4, 100, 100,\n",
    "                    42, 1.2, 0.001)\n",
    "print(option.price())\n",
    "\n",
    "option = FDCnAm(50, 50, 0.1, 5./12., 0.4, 100, 100,\n",
    "                    42, 1.2, 0.001, False)\n",
    "print(option.price())"
   ]
  },
  {
   "cell_type": "code",
   "execution_count": null,
   "metadata": {},
   "outputs": [],
   "source": []
  }
 ],
 "metadata": {
  "kernelspec": {
   "display_name": "Python 3",
   "language": "python",
   "name": "python3"
  },
  "language_info": {
   "codemirror_mode": {
    "name": "ipython",
    "version": 3
   },
   "file_extension": ".py",
   "mimetype": "text/x-python",
   "name": "python",
   "nbconvert_exporter": "python",
   "pygments_lexer": "ipython3",
   "version": "3.6.5"
  }
 },
 "nbformat": 4,
 "nbformat_minor": 2
}
