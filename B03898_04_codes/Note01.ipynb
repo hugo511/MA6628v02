{
 "cells": [
  {
   "cell_type": "markdown",
   "metadata": {},
   "source": [
    "**Ref** Chap 4 of [Ma15]"
   ]
  },
  {
   "cell_type": "markdown",
   "metadata": {},
   "source": [
    "# Binomial European Option"
   ]
  },
  {
   "cell_type": "code",
   "execution_count": 1,
   "metadata": {},
   "outputs": [],
   "source": [
    "%reset -f\n",
    "from StockOption import StockOption"
   ]
  },
  {
   "cell_type": "code",
   "execution_count": 2,
   "metadata": {},
   "outputs": [],
   "source": [
    "from BinomialEuropeanOption import BinomialEuropeanOption"
   ]
  },
  {
   "cell_type": "code",
   "execution_count": 3,
   "metadata": {},
   "outputs": [],
   "source": [
    "eu_option = BinomialEuropeanOption(\n",
    "        50, 50, 0.05, 0.5, 2,\n",
    "        {\"pu\": 0.2, \"pd\": 0.2, \"is_call\": False})"
   ]
  },
  {
   "cell_type": "code",
   "execution_count": 4,
   "metadata": {},
   "outputs": [
    {
     "name": "stdout",
     "output_type": "stream",
     "text": [
      "4.82565175125599\n"
     ]
    }
   ],
   "source": [
    "print(eu_option.price())"
   ]
  },
  {
   "cell_type": "markdown",
   "metadata": {},
   "source": [
    "# Binomial American Option "
   ]
  },
  {
   "cell_type": "code",
   "execution_count": 5,
   "metadata": {},
   "outputs": [],
   "source": [
    "%reset -f"
   ]
  },
  {
   "cell_type": "code",
   "execution_count": 6,
   "metadata": {},
   "outputs": [],
   "source": [
    "from BinomialTreeOption import BinomialTreeOption"
   ]
  },
  {
   "cell_type": "code",
   "execution_count": 7,
   "metadata": {},
   "outputs": [],
   "source": [
    "am_option = BinomialTreeOption(\n",
    "        50, 50, 0.05, 0.5, 2,\n",
    "        {\"pu\": 0.2, \"pd\": 0.2, \"is_call\": False, \"is_eu\": False})"
   ]
  },
  {
   "cell_type": "code",
   "execution_count": 8,
   "metadata": {},
   "outputs": [
    {
     "name": "stdout",
     "output_type": "stream",
     "text": [
      "5.113060082823486\n"
     ]
    }
   ],
   "source": [
    "print(am_option.price())"
   ]
  },
  {
   "cell_type": "markdown",
   "metadata": {},
   "source": [
    "# Binomial CRR Option"
   ]
  },
  {
   "cell_type": "code",
   "execution_count": 9,
   "metadata": {},
   "outputs": [],
   "source": [
    "%reset -f\n",
    "from BinomialCRROption import BinomialCRROption"
   ]
  },
  {
   "cell_type": "code",
   "execution_count": 10,
   "metadata": {},
   "outputs": [
    {
     "name": "stdout",
     "output_type": "stream",
     "text": [
      "European put: 3.1051473412967003\n",
      "American put: 3.4091814964048277\n"
     ]
    }
   ],
   "source": [
    "eu_option = BinomialCRROption(\n",
    "        50, 50, 0.05, 0.5, 2,\n",
    "        {\"sigma\": 0.3, \"is_call\": False})\n",
    "print(\"European put: %s\" % eu_option.price())\n",
    "\n",
    "am_option = BinomialCRROption(\n",
    "        50, 50, 0.05, 0.5, 2,\n",
    "        {\"sigma\": 0.3, \"is_call\": False, \"is_eu\": False})\n",
    "print(\"American put: %s\" % am_option.price())"
   ]
  },
  {
   "cell_type": "markdown",
   "metadata": {},
   "source": [
    "# Binomial LR Option"
   ]
  },
  {
   "cell_type": "code",
   "execution_count": 11,
   "metadata": {},
   "outputs": [],
   "source": [
    "%reset -f\n",
    "from BinomialLROption import BinomialLROption"
   ]
  },
  {
   "cell_type": "code",
   "execution_count": 12,
   "metadata": {},
   "outputs": [
    {
     "name": "stdout",
     "output_type": "stream",
     "text": [
      "European put: 3.5674299991832887\n"
     ]
    }
   ],
   "source": [
    "eu_option = BinomialLROption(\n",
    "        50, 50, 0.05, 0.5, 3,\n",
    "        {\"sigma\": 0.3, \"is_call\": False})\n",
    "print(\"European put: %s\" % eu_option.price())"
   ]
  },
  {
   "cell_type": "code",
   "execution_count": 13,
   "metadata": {},
   "outputs": [
    {
     "name": "stdout",
     "output_type": "stream",
     "text": [
      "American put: 3.668179104133528\n"
     ]
    }
   ],
   "source": [
    "am_option = BinomialLROption(\n",
    "        50, 50, 0.05, 0.5, 3,\n",
    "        {\"sigma\": 0.3, \"is_call\": False, \"is_eu\": False})\n",
    "print(\"American put: %s\" % am_option.price())"
   ]
  }
 ],
 "metadata": {
  "kernelspec": {
   "display_name": "Python 3",
   "language": "python",
   "name": "python3"
  },
  "language_info": {
   "codemirror_mode": {
    "name": "ipython",
    "version": 3
   },
   "file_extension": ".py",
   "mimetype": "text/x-python",
   "name": "python",
   "nbconvert_exporter": "python",
   "pygments_lexer": "ipython3",
   "version": "3.6.5"
  }
 },
 "nbformat": 4,
 "nbformat_minor": 2
}
