{
 "cells": [
  {
   "cell_type": "markdown",
   "metadata": {},
   "source": [
    "List"
   ]
  },
  {
   "cell_type": "markdown",
   "metadata": {},
   "source": [
    "- 7707, Zhiwei Li, https://github.com/wallace2213/MA6628-assignment1\n",
    "- 1016, Shuyue Liu, https://github.com/shuyueliu\n",
    "- 9094, Yumeng Sun, https://github.com/yumengsun3/MA6628\n",
    "- 5675, Jiayi Li, https://github.com/jiayiLi8\n",
    "- 7137, Shuxian Wang, https://github.com/ShuxianWang/Programing\n",
    "- 6373, Chao Shi, https://github.com/shichaochhk/MA6628-Homework\n",
    "- 8903, Silu Xue, https://github.com/xsl521/MA6628 \n",
    "- 3771, Yueying Guo, https://github.com/yueyingg/MA6628\n",
    "- 4975, Ho-Yin Lam, https://github.com/hylam39/MA6628\n",
    "- 5499, Hanfei Nie, https://github.com/niehanfei\n",
    "- 2904, Xueyi Peng, https://github.com/sheryp\n",
    "- 8877, Tianrun Yu, https://github.com/TianrunY\n",
    "- ????, ????, https://github.com/MissLqq\n",
    "- 6129, Yanan Zhao, https://github.com/Yanan369/MA6628\n",
    "- 4187, Jintao Zheng, https://github.com/vanvae/MA6628\n",
    "- 8269, Jiamin Jian, https://github.com/JiaminJIAN/MA6628\n",
    "- 4420, Peiran Hu, https://github.com/peiranhu4/MA6628\n",
    "- 8305, Qiongyao Zhong, https://github.com/zhongaicong/github.com/\n",
    "- 5458, Zhonghao Xian, https://github.com/hugo511/CourseMA6628\n",
    "- 5634, Zuji Fang, https://github.com/ZujiFang/pr01\n",
    "- 2400, Pin Huang, https://github.com/pinhuang0317\n",
    "- 3463, Yue Yang, https://github.com/yyang464/MA6628\n",
    "- 5624, Kai Kang, https://github.com/hwadeh/MA6628\n",
    "- 8399, Dailun He, https://github.com/khezik/MA6628\n",
    "- 7334, Chuan He, https://github.com/littlechuaner/MA6628\n"
   ]
  },
  {
   "cell_type": "code",
   "execution_count": null,
   "metadata": {},
   "outputs": [],
   "source": []
  }
 ],
 "metadata": {
  "kernelspec": {
   "display_name": "Python 3",
   "language": "python",
   "name": "python3"
  },
  "language_info": {
   "codemirror_mode": {
    "name": "ipython",
    "version": 3
   },
   "file_extension": ".py",
   "mimetype": "text/x-python",
   "name": "python",
   "nbconvert_exporter": "python",
   "pygments_lexer": "ipython3",
   "version": "3.6.4"
  }
 },
 "nbformat": 4,
 "nbformat_minor": 2
}
