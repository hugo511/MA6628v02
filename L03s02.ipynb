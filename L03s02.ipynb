{
 "cells": [
  {
   "cell_type": "code",
   "execution_count": 73,
   "metadata": {
    "collapsed": false,
    "slideshow": {
     "slide_type": "slide"
    }
   },
   "outputs": [
   ],
   "source": [
    "%matplotlib inline\n",
    "import numpy as np\n",
    "from scipy import stats\n",
    "from scipy.stats import norm\n",
    "import matplotlib.pyplot as plt\n",
    "import seaborn as sns\n",
    "sns.set_style('white')\n",
    "sns.set_context('talk')"
   ]
  },
  {
   "cell_type": "markdown",
   "metadata": {
    "collapsed": false,
    "slideshow": {
     "slide_type": "slide"
    }
   },
   "source": [
    "### Sampling: Inverse transform method\n",
    "\n",
    "Python provides random sampling for some commonly used distributions, like uniform distribution, normal distribution, etc. \n",
    "Now, we will draw sampling from a distribution with its CDF given by $F$.\n",
    "\n",
    "**Propostion**\n",
    "\n",
    "If $F$ is a strictly increasing CDF and $U \\sim U(0,1)$, then the r.v. given by $X = F^{-1} (U)$ has its CDF $F$.\n",
    "\n",
    "**ex**\n",
    "\n",
    "The above propostion is the theoretical basis for the inverse transform method. Prove it."
   ]
  },
  {
   "cell_type": "code",
   "execution_count": 74,
   "metadata": {
    "collapsed": false
   },
   "outputs": [
   ],
   "source": [
    "#Inverse Transform to generate random numbers,\n",
    "#Input\n",
    "#F_inv: inverse of the given distribution \n",
    "#size: number of random numbers\n",
    "#Output\n",
    "#A numpy array\n",
    "def InverseTransform(F_inv, size):\n",
    "    R = np.random.uniform(0, 1, size)\n",
    "    return F_inv(R)"
   ]
  },
  {
   "cell_type": "markdown",
   "metadata": {
    "collapsed": false
   },
   "source": [
    "**Ex**\n",
    "\n",
    "Draw from the distribution $f(x) \\sim \\exp{(-x)}$."
   ]
  },
  {
   "cell_type": "code",
   "execution_count": 75,
   "metadata": {
    "collapsed": false
   },
   "outputs": [
    {
     "data": {
      "image/png": "[encoded data removed]"
     },
     "execution_count": 75,
     "metadata": {
     },
     "output_type": "execute_result"
    }
   ],
   "source": [
    "# probability distribution we're trying to calculate\n",
    "phi = lambda x: np.exp(-x)\n",
    "\n",
    "# CDF of p\n",
    "Phi = lambda x: 1-np.exp(-x)\n",
    "\n",
    "# invert the CDF\n",
    "Phi_inv = lambda x: -np.log(1-x)\n",
    "\n",
    "#generate r.v.s\n",
    "size = 1000\n",
    "X = InverseTransform(Phi_inv, size)\n",
    "\n",
    "histX = plt.hist(X, label='histogram')\n",
    "\n",
    "x_cod = np.linspace(0,X.max(),1000)\n",
    "y_cod = phi(x_cod)*histX[0][0]\n",
    "plt.plot(x_cod,y_cod, label='density function');\n",
    "\n",
    "plt.legend();"
   ]
  }
 ],
 "metadata": {
  "kernelspec": {
   "display_name": "SageMath (stable)",
   "name": "sagemath"
  },
  "language_info": {
   "codemirror_mode": {
    "name": "ipython",
    "version": 2
   },
   "file_extension": ".py",
   "mimetype": "text/x-python",
   "name": "python",
   "nbconvert_exporter": "python",
   "pygments_lexer": "ipython2",
   "version": "2.7.14"
  }
 },
 "nbformat": 4,
 "nbformat_minor": 0
}